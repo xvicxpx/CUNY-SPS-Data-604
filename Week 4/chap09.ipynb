{
 "cells": [
  {
   "cell_type": "markdown",
   "metadata": {},
   "source": [
    "# Modeling and Simulation in Python\n",
    "\n",
    "Chapter 9\n",
    "\n",
    "Copyright 2017 Allen Downey\n",
    "\n",
    "License: [Creative Commons Attribution 4.0 International](https://creativecommons.org/licenses/by/4.0)\n"
   ]
  },
  {
   "cell_type": "code",
   "execution_count": 1,
   "metadata": {},
   "outputs": [],
   "source": [
    "# Configure Jupyter to display the assigned value after an assignment\n",
    "%config InteractiveShell.ast_node_interactivity='last_expr_or_assign'\n",
    "\n",
    "# import everything from SymPy.\n",
    "from sympy import *\n",
    "\n",
    "# Set up Jupyter notebook to display math.\n",
    "init_printing() "
   ]
  },
  {
   "cell_type": "markdown",
   "metadata": {},
   "source": [
    "The following displays SymPy expressions and provides the option of showing results in LaTeX format."
   ]
  },
  {
   "cell_type": "code",
   "execution_count": 2,
   "metadata": {},
   "outputs": [],
   "source": [
    "from sympy.printing import latex\n",
    "\n",
    "def show(expr, show_latex=False):\n",
    "    \"\"\"Display a SymPy expression.\n",
    "    \n",
    "    expr: SymPy expression\n",
    "    show_latex: boolean\n",
    "    \"\"\"\n",
    "    if show_latex:\n",
    "        print(latex(expr))\n",
    "    return expr"
   ]
  },
  {
   "cell_type": "markdown",
   "metadata": {},
   "source": [
    "### Analysis with SymPy"
   ]
  },
  {
   "cell_type": "markdown",
   "metadata": {},
   "source": [
    "Create a symbol for time."
   ]
  },
  {
   "cell_type": "code",
   "execution_count": 3,
   "metadata": {},
   "outputs": [
    {
     "output_type": "stream",
     "name": "stderr",
     "text": [
      "/Users/vic.chan/Documents/School/Data 604/CUNY-SPS-Data-604/venv/lib/python3.9/site-packages/IPython/lib/latextools.py:126: MatplotlibDeprecationWarning: \nThe to_png function was deprecated in Matplotlib 3.4 and will be removed two minor releases later. Use mathtext.math_to_image instead.\n  mt.to_png(f, s, fontsize=12, dpi=dpi, color=color)\n/Users/vic.chan/Documents/School/Data 604/CUNY-SPS-Data-604/venv/lib/python3.9/site-packages/IPython/lib/latextools.py:126: MatplotlibDeprecationWarning: \nThe to_rgba function was deprecated in Matplotlib 3.4 and will be removed two minor releases later. Use mathtext.math_to_image instead.\n  mt.to_png(f, s, fontsize=12, dpi=dpi, color=color)\n/Users/vic.chan/Documents/School/Data 604/CUNY-SPS-Data-604/venv/lib/python3.9/site-packages/IPython/lib/latextools.py:126: MatplotlibDeprecationWarning: \nThe to_mask function was deprecated in Matplotlib 3.4 and will be removed two minor releases later. Use mathtext.math_to_image instead.\n  mt.to_png(f, s, fontsize=12, dpi=dpi, color=color)\n/Users/vic.chan/Documents/School/Data 604/CUNY-SPS-Data-604/venv/lib/python3.9/site-packages/IPython/lib/latextools.py:126: MatplotlibDeprecationWarning: \nThe MathtextBackendBitmap class was deprecated in Matplotlib 3.4 and will be removed two minor releases later. Use mathtext.math_to_image instead.\n  mt.to_png(f, s, fontsize=12, dpi=dpi, color=color)\n"
     ]
    },
    {
     "output_type": "execute_result",
     "data": {
      "text/plain": [
       "t"
      ],
      "image/png": "[encoded data removed]",
      "text/latex": "$\\displaystyle t$"
     },
     "metadata": {},
     "execution_count": 3
    }
   ],
   "source": [
    "t = symbols('t')"
   ]
  },
  {
   "cell_type": "markdown",
   "metadata": {},
   "source": [
    "If you combine symbols and numbers, you get symbolic expressions."
   ]
  },
  {
   "cell_type": "code",
   "execution_count": 4,
   "metadata": {},
   "outputs": [
    {
     "output_type": "stream",
     "name": "stderr",
     "text": [
      "/Users/vic.chan/Documents/School/Data 604/CUNY-SPS-Data-604/venv/lib/python3.9/site-packages/IPython/lib/latextools.py:126: MatplotlibDeprecationWarning: \nThe to_png function was deprecated in Matplotlib 3.4 and will be removed two minor releases later. Use mathtext.math_to_image instead.\n  mt.to_png(f, s, fontsize=12, dpi=dpi, color=color)\n/Users/vic.chan/Documents/School/Data 604/CUNY-SPS-Data-604/venv/lib/python3.9/site-packages/IPython/lib/latextools.py:126: MatplotlibDeprecationWarning: \nThe to_rgba function was deprecated in Matplotlib 3.4 and will be removed two minor releases later. Use mathtext.math_to_image instead.\n  mt.to_png(f, s, fontsize=12, dpi=dpi, color=color)\n/Users/vic.chan/Documents/School/Data 604/CUNY-SPS-Data-604/venv/lib/python3.9/site-packages/IPython/lib/latextools.py:126: MatplotlibDeprecationWarning: \nThe to_mask function was deprecated in Matplotlib 3.4 and will be removed two minor releases later. Use mathtext.math_to_image instead.\n  mt.to_png(f, s, fontsize=12, dpi=dpi, color=color)\n/Users/vic.chan/Documents/School/Data 604/CUNY-SPS-Data-604/venv/lib/python3.9/site-packages/IPython/lib/latextools.py:126: MatplotlibDeprecationWarning: \nThe MathtextBackendBitmap class was deprecated in Matplotlib 3.4 and will be removed two minor releases later. Use mathtext.math_to_image instead.\n  mt.to_png(f, s, fontsize=12, dpi=dpi, color=color)\n"
     ]
    },
    {
     "output_type": "execute_result",
     "data": {
      "text/plain": [
       "t + 1"
      ],
      "image/png": "[encoded data removed]",
      "text/latex": "$\\displaystyle t + 1$"
     },
     "metadata": {},
     "execution_count": 4
    }
   ],
   "source": [
    "expr = t + 1"
   ]
  },
  {
   "cell_type": "markdown",
   "metadata": {},
   "source": [
    "The result is an `Add` object, which just represents the sum without trying to compute it."
   ]
  },
  {
   "cell_type": "code",
   "execution_count": 5,
   "metadata": {},
   "outputs": [
    {
     "output_type": "execute_result",
     "data": {
      "text/plain": [
       "sympy.core.add.Add"
      ]
     },
     "metadata": {},
     "execution_count": 5
    }
   ],
   "source": [
    "type(expr)"
   ]
  },
  {
   "cell_type": "markdown",
   "metadata": {},
   "source": [
    "`subs` can be used to replace a symbol with a number, which allows the addition to proceed."
   ]
  },
  {
   "cell_type": "code",
   "execution_count": 6,
   "metadata": {},
   "outputs": [
    {
     "output_type": "stream",
     "name": "stderr",
     "text": [
      "/Users/vic.chan/Documents/School/Data 604/CUNY-SPS-Data-604/venv/lib/python3.9/site-packages/IPython/lib/latextools.py:126: MatplotlibDeprecationWarning: \nThe to_png function was deprecated in Matplotlib 3.4 and will be removed two minor releases later. Use mathtext.math_to_image instead.\n  mt.to_png(f, s, fontsize=12, dpi=dpi, color=color)\n/Users/vic.chan/Documents/School/Data 604/CUNY-SPS-Data-604/venv/lib/python3.9/site-packages/IPython/lib/latextools.py:126: MatplotlibDeprecationWarning: \nThe to_rgba function was deprecated in Matplotlib 3.4 and will be removed two minor releases later. Use mathtext.math_to_image instead.\n  mt.to_png(f, s, fontsize=12, dpi=dpi, color=color)\n/Users/vic.chan/Documents/School/Data 604/CUNY-SPS-Data-604/venv/lib/python3.9/site-packages/IPython/lib/latextools.py:126: MatplotlibDeprecationWarning: \nThe to_mask function was deprecated in Matplotlib 3.4 and will be removed two minor releases later. Use mathtext.math_to_image instead.\n  mt.to_png(f, s, fontsize=12, dpi=dpi, color=color)\n/Users/vic.chan/Documents/School/Data 604/CUNY-SPS-Data-604/venv/lib/python3.9/site-packages/IPython/lib/latextools.py:126: MatplotlibDeprecationWarning: \nThe MathtextBackendBitmap class was deprecated in Matplotlib 3.4 and will be removed two minor releases later. Use mathtext.math_to_image instead.\n  mt.to_png(f, s, fontsize=12, dpi=dpi, color=color)\n"
     ]
    },
    {
     "output_type": "execute_result",
     "data": {
      "text/plain": [
       "3"
      ],
      "image/png": "[encoded data removed]",
      "text/latex": "$\\displaystyle 3$"
     },
     "metadata": {},
     "execution_count": 6
    }
   ],
   "source": [
    "expr.subs(t, 2)"
   ]
  },
  {
   "cell_type": "markdown",
   "metadata": {},
   "source": [
    "`f` is a special class of symbol that represents a function."
   ]
  },
  {
   "cell_type": "code",
   "execution_count": 7,
   "metadata": {},
   "outputs": [
    {
     "output_type": "execute_result",
     "data": {
      "text/plain": [
       "f"
      ]
     },
     "metadata": {},
     "execution_count": 7
    }
   ],
   "source": [
    "f = Function('f')"
   ]
  },
  {
   "cell_type": "markdown",
   "metadata": {},
   "source": [
    "The type of `f` is `UndefinedFunction`"
   ]
  },
  {
   "cell_type": "code",
   "execution_count": 8,
   "metadata": {},
   "outputs": [
    {
     "output_type": "execute_result",
     "data": {
      "text/plain": [
       "sympy.core.function.UndefinedFunction"
      ]
     },
     "metadata": {},
     "execution_count": 8
    }
   ],
   "source": [
    "type(f)"
   ]
  },
  {
   "cell_type": "markdown",
   "metadata": {},
   "source": [
    "SymPy understands that `f(t)` means `f` evaluated at `t`, but it doesn't try to evaluate it yet."
   ]
  },
  {
   "cell_type": "code",
   "execution_count": 9,
   "metadata": {},
   "outputs": [
    {
     "output_type": "stream",
     "name": "stderr",
     "text": [
      "/Users/vic.chan/Documents/School/Data 604/CUNY-SPS-Data-604/venv/lib/python3.9/site-packages/IPython/lib/latextools.py:126: MatplotlibDeprecationWarning: \nThe to_png function was deprecated in Matplotlib 3.4 and will be removed two minor releases later. Use mathtext.math_to_image instead.\n  mt.to_png(f, s, fontsize=12, dpi=dpi, color=color)\n/Users/vic.chan/Documents/School/Data 604/CUNY-SPS-Data-604/venv/lib/python3.9/site-packages/IPython/lib/latextools.py:126: MatplotlibDeprecationWarning: \nThe to_rgba function was deprecated in Matplotlib 3.4 and will be removed two minor releases later. Use mathtext.math_to_image instead.\n  mt.to_png(f, s, fontsize=12, dpi=dpi, color=color)\n/Users/vic.chan/Documents/School/Data 604/CUNY-SPS-Data-604/venv/lib/python3.9/site-packages/IPython/lib/latextools.py:126: MatplotlibDeprecationWarning: \nThe to_mask function was deprecated in Matplotlib 3.4 and will be removed two minor releases later. Use mathtext.math_to_image instead.\n  mt.to_png(f, s, fontsize=12, dpi=dpi, color=color)\n/Users/vic.chan/Documents/School/Data 604/CUNY-SPS-Data-604/venv/lib/python3.9/site-packages/IPython/lib/latextools.py:126: MatplotlibDeprecationWarning: \nThe MathtextBackendBitmap class was deprecated in Matplotlib 3.4 and will be removed two minor releases later. Use mathtext.math_to_image instead.\n  mt.to_png(f, s, fontsize=12, dpi=dpi, color=color)\n"
     ]
    },
    {
     "output_type": "execute_result",
     "data": {
      "text/plain": [
       "f(t)"
      ],
      "image/png": "[encoded data removed]",
      "text/latex": "$\\displaystyle f{\\left(t \\right)}$"
     },
     "metadata": {},
     "execution_count": 9
    }
   ],
   "source": [
    "f(t)"
   ]
  },
  {
   "cell_type": "markdown",
   "metadata": {},
   "source": [
    "`diff` returns a `Derivative` object that represents the time derivative of `f`"
   ]
  },
  {
   "cell_type": "code",
   "execution_count": 10,
   "metadata": {},
   "outputs": [
    {
     "output_type": "stream",
     "name": "stderr",
     "text": [
      "/Users/vic.chan/Documents/School/Data 604/CUNY-SPS-Data-604/venv/lib/python3.9/site-packages/IPython/lib/latextools.py:126: MatplotlibDeprecationWarning: \nThe to_png function was deprecated in Matplotlib 3.4 and will be removed two minor releases later. Use mathtext.math_to_image instead.\n  mt.to_png(f, s, fontsize=12, dpi=dpi, color=color)\n/Users/vic.chan/Documents/School/Data 604/CUNY-SPS-Data-604/venv/lib/python3.9/site-packages/IPython/lib/latextools.py:126: MatplotlibDeprecationWarning: \nThe to_rgba function was deprecated in Matplotlib 3.4 and will be removed two minor releases later. Use mathtext.math_to_image instead.\n  mt.to_png(f, s, fontsize=12, dpi=dpi, color=color)\n/Users/vic.chan/Documents/School/Data 604/CUNY-SPS-Data-604/venv/lib/python3.9/site-packages/IPython/lib/latextools.py:126: MatplotlibDeprecationWarning: \nThe to_mask function was deprecated in Matplotlib 3.4 and will be removed two minor releases later. Use mathtext.math_to_image instead.\n  mt.to_png(f, s, fontsize=12, dpi=dpi, color=color)\n/Users/vic.chan/Documents/School/Data 604/CUNY-SPS-Data-604/venv/lib/python3.9/site-packages/IPython/lib/latextools.py:126: MatplotlibDeprecationWarning: \nThe MathtextBackendBitmap class was deprecated in Matplotlib 3.4 and will be removed two minor releases later. Use mathtext.math_to_image instead.\n  mt.to_png(f, s, fontsize=12, dpi=dpi, color=color)\n"
     ]
    },
    {
     "output_type": "execute_result",
     "data": {
      "text/plain": [
       "d       \n",
       "──(f(t))\n",
       "dt      "
      ],
      "image/png": "[encoded data removed]",
      "text/latex": "$\\displaystyle \\frac{d}{d t} f{\\left(t \\right)}$"
     },
     "metadata": {},
     "execution_count": 10
    }
   ],
   "source": [
    "dfdt = diff(f(t), t)"
   ]
  },
  {
   "cell_type": "code",
   "execution_count": 11,
   "metadata": {},
   "outputs": [
    {
     "output_type": "execute_result",
     "data": {
      "text/plain": [
       "sympy.core.function.Derivative"
      ]
     },
     "metadata": {},
     "execution_count": 11
    }
   ],
   "source": [
    "type(dfdt)"
   ]
  },
  {
   "cell_type": "markdown",
   "metadata": {},
   "source": [
    "We need a symbol for `alpha`"
   ]
  },
  {
   "cell_type": "code",
   "execution_count": 12,
   "metadata": {},
   "outputs": [
    {
     "output_type": "stream",
     "name": "stderr",
     "text": [
      "/Users/vic.chan/Documents/School/Data 604/CUNY-SPS-Data-604/venv/lib/python3.9/site-packages/IPython/lib/latextools.py:126: MatplotlibDeprecationWarning: \nThe to_png function was deprecated in Matplotlib 3.4 and will be removed two minor releases later. Use mathtext.math_to_image instead.\n  mt.to_png(f, s, fontsize=12, dpi=dpi, color=color)\n/Users/vic.chan/Documents/School/Data 604/CUNY-SPS-Data-604/venv/lib/python3.9/site-packages/IPython/lib/latextools.py:126: MatplotlibDeprecationWarning: \nThe to_rgba function was deprecated in Matplotlib 3.4 and will be removed two minor releases later. Use mathtext.math_to_image instead.\n  mt.to_png(f, s, fontsize=12, dpi=dpi, color=color)\n/Users/vic.chan/Documents/School/Data 604/CUNY-SPS-Data-604/venv/lib/python3.9/site-packages/IPython/lib/latextools.py:126: MatplotlibDeprecationWarning: \nThe to_mask function was deprecated in Matplotlib 3.4 and will be removed two minor releases later. Use mathtext.math_to_image instead.\n  mt.to_png(f, s, fontsize=12, dpi=dpi, color=color)\n/Users/vic.chan/Documents/School/Data 604/CUNY-SPS-Data-604/venv/lib/python3.9/site-packages/IPython/lib/latextools.py:126: MatplotlibDeprecationWarning: \nThe MathtextBackendBitmap class was deprecated in Matplotlib 3.4 and will be removed two minor releases later. Use mathtext.math_to_image instead.\n  mt.to_png(f, s, fontsize=12, dpi=dpi, color=color)\n"
     ]
    },
    {
     "output_type": "execute_result",
     "data": {
      "text/plain": [
       "α"
      ],
      "image/png": "[encoded data removed]",
      "text/latex": "$\\displaystyle \\alpha$"
     },
     "metadata": {},
     "execution_count": 12
    }
   ],
   "source": [
    "alpha = symbols('alpha')"
   ]
  },
  {
   "cell_type": "markdown",
   "metadata": {},
   "source": [
    "Now we can write the differential equation for proportional growth."
   ]
  },
  {
   "cell_type": "code",
   "execution_count": 13,
   "metadata": {},
   "outputs": [
    {
     "output_type": "stream",
     "name": "stderr",
     "text": [
      "/Users/vic.chan/Documents/School/Data 604/CUNY-SPS-Data-604/venv/lib/python3.9/site-packages/IPython/lib/latextools.py:126: MatplotlibDeprecationWarning: \nThe to_png function was deprecated in Matplotlib 3.4 and will be removed two minor releases later. Use mathtext.math_to_image instead.\n  mt.to_png(f, s, fontsize=12, dpi=dpi, color=color)\n/Users/vic.chan/Documents/School/Data 604/CUNY-SPS-Data-604/venv/lib/python3.9/site-packages/IPython/lib/latextools.py:126: MatplotlibDeprecationWarning: \nThe to_rgba function was deprecated in Matplotlib 3.4 and will be removed two minor releases later. Use mathtext.math_to_image instead.\n  mt.to_png(f, s, fontsize=12, dpi=dpi, color=color)\n/Users/vic.chan/Documents/School/Data 604/CUNY-SPS-Data-604/venv/lib/python3.9/site-packages/IPython/lib/latextools.py:126: MatplotlibDeprecationWarning: \nThe to_mask function was deprecated in Matplotlib 3.4 and will be removed two minor releases later. Use mathtext.math_to_image instead.\n  mt.to_png(f, s, fontsize=12, dpi=dpi, color=color)\n/Users/vic.chan/Documents/School/Data 604/CUNY-SPS-Data-604/venv/lib/python3.9/site-packages/IPython/lib/latextools.py:126: MatplotlibDeprecationWarning: \nThe MathtextBackendBitmap class was deprecated in Matplotlib 3.4 and will be removed two minor releases later. Use mathtext.math_to_image instead.\n  mt.to_png(f, s, fontsize=12, dpi=dpi, color=color)\n"
     ]
    },
    {
     "output_type": "execute_result",
     "data": {
      "text/plain": [
       "d                \n",
       "──(f(t)) = α⋅f(t)\n",
       "dt               "
      ],
      "image/png": "[encoded data removed]",
      "text/latex": "$\\displaystyle \\frac{d}{d t} f{\\left(t \\right)} = \\alpha f{\\left(t \\right)}$"
     },
     "metadata": {},
     "execution_count": 13
    }
   ],
   "source": [
    "eq1 = Eq(dfdt, alpha*f(t))"
   ]
  },
  {
   "cell_type": "markdown",
   "metadata": {},
   "source": [
    "And use `dsolve` to solve it.  The result is the general solution."
   ]
  },
  {
   "cell_type": "code",
   "execution_count": 14,
   "metadata": {},
   "outputs": [
    {
     "output_type": "stream",
     "name": "stderr",
     "text": [
      "/Users/vic.chan/Documents/School/Data 604/CUNY-SPS-Data-604/venv/lib/python3.9/site-packages/IPython/lib/latextools.py:126: MatplotlibDeprecationWarning: \nThe to_png function was deprecated in Matplotlib 3.4 and will be removed two minor releases later. Use mathtext.math_to_image instead.\n  mt.to_png(f, s, fontsize=12, dpi=dpi, color=color)\n/Users/vic.chan/Documents/School/Data 604/CUNY-SPS-Data-604/venv/lib/python3.9/site-packages/IPython/lib/latextools.py:126: MatplotlibDeprecationWarning: \nThe to_rgba function was deprecated in Matplotlib 3.4 and will be removed two minor releases later. Use mathtext.math_to_image instead.\n  mt.to_png(f, s, fontsize=12, dpi=dpi, color=color)\n/Users/vic.chan/Documents/School/Data 604/CUNY-SPS-Data-604/venv/lib/python3.9/site-packages/IPython/lib/latextools.py:126: MatplotlibDeprecationWarning: \nThe to_mask function was deprecated in Matplotlib 3.4 and will be removed two minor releases later. Use mathtext.math_to_image instead.\n  mt.to_png(f, s, fontsize=12, dpi=dpi, color=color)\n/Users/vic.chan/Documents/School/Data 604/CUNY-SPS-Data-604/venv/lib/python3.9/site-packages/IPython/lib/latextools.py:126: MatplotlibDeprecationWarning: \nThe MathtextBackendBitmap class was deprecated in Matplotlib 3.4 and will be removed two minor releases later. Use mathtext.math_to_image instead.\n  mt.to_png(f, s, fontsize=12, dpi=dpi, color=color)\n"
     ]
    },
    {
     "output_type": "execute_result",
     "data": {
      "text/plain": [
       "           α⋅t\n",
       "f(t) = C₁⋅ℯ   "
      ],
      "image/png": "[encoded data removed]",
      "text/latex": "$\\displaystyle f{\\left(t \\right)} = C_{1} e^{\\alpha t}$"
     },
     "metadata": {},
     "execution_count": 14
    }
   ],
   "source": [
    "solution_eq = dsolve(eq1)"
   ]
  },
  {
   "cell_type": "markdown",
   "metadata": {},
   "source": [
    "We can tell it's a general solution because it contains an unspecified constant, `C1`.\n",
    "\n",
    "In this example, finding the particular solution is easy: we just replace `C1` with `p_0`"
   ]
  },
  {
   "cell_type": "code",
   "execution_count": 15,
   "metadata": {},
   "outputs": [],
   "source": [
    "C1, p_0 = symbols('C1 p_0')"
   ]
  },
  {
   "cell_type": "code",
   "execution_count": 16,
   "metadata": {},
   "outputs": [
    {
     "output_type": "stream",
     "name": "stderr",
     "text": [
      "/Users/vic.chan/Documents/School/Data 604/CUNY-SPS-Data-604/venv/lib/python3.9/site-packages/IPython/lib/latextools.py:126: MatplotlibDeprecationWarning: \nThe to_png function was deprecated in Matplotlib 3.4 and will be removed two minor releases later. Use mathtext.math_to_image instead.\n  mt.to_png(f, s, fontsize=12, dpi=dpi, color=color)\n/Users/vic.chan/Documents/School/Data 604/CUNY-SPS-Data-604/venv/lib/python3.9/site-packages/IPython/lib/latextools.py:126: MatplotlibDeprecationWarning: \nThe to_rgba function was deprecated in Matplotlib 3.4 and will be removed two minor releases later. Use mathtext.math_to_image instead.\n  mt.to_png(f, s, fontsize=12, dpi=dpi, color=color)\n/Users/vic.chan/Documents/School/Data 604/CUNY-SPS-Data-604/venv/lib/python3.9/site-packages/IPython/lib/latextools.py:126: MatplotlibDeprecationWarning: \nThe to_mask function was deprecated in Matplotlib 3.4 and will be removed two minor releases later. Use mathtext.math_to_image instead.\n  mt.to_png(f, s, fontsize=12, dpi=dpi, color=color)\n/Users/vic.chan/Documents/School/Data 604/CUNY-SPS-Data-604/venv/lib/python3.9/site-packages/IPython/lib/latextools.py:126: MatplotlibDeprecationWarning: \nThe MathtextBackendBitmap class was deprecated in Matplotlib 3.4 and will be removed two minor releases later. Use mathtext.math_to_image instead.\n  mt.to_png(f, s, fontsize=12, dpi=dpi, color=color)\n"
     ]
    },
    {
     "output_type": "execute_result",
     "data": {
      "text/plain": [
       "           α⋅t\n",
       "f(t) = p₀⋅ℯ   "
      ],
      "image/png": "[encoded data removed]",
      "text/latex": "$\\displaystyle f{\\left(t \\right)} = p_{0} e^{\\alpha t}$"
     },
     "metadata": {},
     "execution_count": 16
    }
   ],
   "source": [
    "particular = solution_eq.subs(C1, p_0)"
   ]
  },
  {
   "cell_type": "markdown",
   "metadata": {},
   "source": [
    "In the next example, we have to work a little harder to find the particular solution."
   ]
  },
  {
   "cell_type": "markdown",
   "metadata": {},
   "source": [
    "### Solving the quadratic growth equation \n",
    "\n",
    "We'll use the (r, K) parameterization, so we'll need two more symbols:"
   ]
  },
  {
   "cell_type": "code",
   "execution_count": 18,
   "metadata": {},
   "outputs": [],
   "source": [
    "r, K = symbols('r K')"
   ]
  },
  {
   "cell_type": "markdown",
   "metadata": {},
   "source": [
    "Now we can write the differential equation."
   ]
  },
  {
   "cell_type": "code",
   "execution_count": 19,
   "metadata": {},
   "outputs": [
    {
     "output_type": "stream",
     "name": "stderr",
     "text": [
      "/Users/vic.chan/Documents/School/Data 604/CUNY-SPS-Data-604/venv/lib/python3.9/site-packages/IPython/lib/latextools.py:126: MatplotlibDeprecationWarning: \nThe to_png function was deprecated in Matplotlib 3.4 and will be removed two minor releases later. Use mathtext.math_to_image instead.\n  mt.to_png(f, s, fontsize=12, dpi=dpi, color=color)\n/Users/vic.chan/Documents/School/Data 604/CUNY-SPS-Data-604/venv/lib/python3.9/site-packages/IPython/lib/latextools.py:126: MatplotlibDeprecationWarning: \nThe to_rgba function was deprecated in Matplotlib 3.4 and will be removed two minor releases later. Use mathtext.math_to_image instead.\n  mt.to_png(f, s, fontsize=12, dpi=dpi, color=color)\n/Users/vic.chan/Documents/School/Data 604/CUNY-SPS-Data-604/venv/lib/python3.9/site-packages/IPython/lib/latextools.py:126: MatplotlibDeprecationWarning: \nThe to_mask function was deprecated in Matplotlib 3.4 and will be removed two minor releases later. Use mathtext.math_to_image instead.\n  mt.to_png(f, s, fontsize=12, dpi=dpi, color=color)\n/Users/vic.chan/Documents/School/Data 604/CUNY-SPS-Data-604/venv/lib/python3.9/site-packages/IPython/lib/latextools.py:126: MatplotlibDeprecationWarning: \nThe MathtextBackendBitmap class was deprecated in Matplotlib 3.4 and will be removed two minor releases later. Use mathtext.math_to_image instead.\n  mt.to_png(f, s, fontsize=12, dpi=dpi, color=color)\n"
     ]
    },
    {
     "output_type": "execute_result",
     "data": {
      "text/plain": [
       "d            ⎛    f(t)⎞     \n",
       "──(f(t)) = r⋅⎜1 - ────⎟⋅f(t)\n",
       "dt           ⎝     K  ⎠     "
      ],
      "image/png": "[encoded data removed]",
      "text/latex": "$\\displaystyle \\frac{d}{d t} f{\\left(t \\right)} = r \\left(1 - \\frac{f{\\left(t \\right)}}{K}\\right) f{\\left(t \\right)}$"
     },
     "metadata": {},
     "execution_count": 19
    }
   ],
   "source": [
    "eq2 = Eq(diff(f(t), t), r * f(t) * (1 - f(t)/K))"
   ]
  },
  {
   "cell_type": "markdown",
   "metadata": {},
   "source": [
    "And solve it."
   ]
  },
  {
   "cell_type": "code",
   "execution_count": 20,
   "metadata": {},
   "outputs": [
    {
     "output_type": "stream",
     "name": "stderr",
     "text": [
      "/Users/vic.chan/Documents/School/Data 604/CUNY-SPS-Data-604/venv/lib/python3.9/site-packages/IPython/lib/latextools.py:126: MatplotlibDeprecationWarning: \nThe to_png function was deprecated in Matplotlib 3.4 and will be removed two minor releases later. Use mathtext.math_to_image instead.\n  mt.to_png(f, s, fontsize=12, dpi=dpi, color=color)\n/Users/vic.chan/Documents/School/Data 604/CUNY-SPS-Data-604/venv/lib/python3.9/site-packages/IPython/lib/latextools.py:126: MatplotlibDeprecationWarning: \nThe to_rgba function was deprecated in Matplotlib 3.4 and will be removed two minor releases later. Use mathtext.math_to_image instead.\n  mt.to_png(f, s, fontsize=12, dpi=dpi, color=color)\n/Users/vic.chan/Documents/School/Data 604/CUNY-SPS-Data-604/venv/lib/python3.9/site-packages/IPython/lib/latextools.py:126: MatplotlibDeprecationWarning: \nThe to_mask function was deprecated in Matplotlib 3.4 and will be removed two minor releases later. Use mathtext.math_to_image instead.\n  mt.to_png(f, s, fontsize=12, dpi=dpi, color=color)\n/Users/vic.chan/Documents/School/Data 604/CUNY-SPS-Data-604/venv/lib/python3.9/site-packages/IPython/lib/latextools.py:126: MatplotlibDeprecationWarning: \nThe MathtextBackendBitmap class was deprecated in Matplotlib 3.4 and will be removed two minor releases later. Use mathtext.math_to_image instead.\n  mt.to_png(f, s, fontsize=12, dpi=dpi, color=color)\n"
     ]
    },
    {
     "output_type": "execute_result",
     "data": {
      "text/plain": [
       "           C₁⋅K + r⋅t \n",
       "        K⋅ℯ           \n",
       "f(t) = ───────────────\n",
       "        C₁⋅K + r⋅t    \n",
       "       ℯ           - 1"
      ],
      "image/png": "[encoded data removed]",
      "text/latex": "$\\displaystyle f{\\left(t \\right)} = \\frac{K e^{C_{1} K + r t}}{e^{C_{1} K + r t} - 1}$"
     },
     "metadata": {},
     "execution_count": 20
    }
   ],
   "source": [
    "solution_eq = dsolve(eq2)"
   ]
  },
  {
   "cell_type": "markdown",
   "metadata": {},
   "source": [
    "The result, `solution_eq`, contains `rhs`, which is the right-hand side of the solution."
   ]
  },
  {
   "cell_type": "code",
   "execution_count": 21,
   "metadata": {},
   "outputs": [
    {
     "output_type": "stream",
     "name": "stderr",
     "text": [
      "/Users/vic.chan/Documents/School/Data 604/CUNY-SPS-Data-604/venv/lib/python3.9/site-packages/IPython/lib/latextools.py:126: MatplotlibDeprecationWarning: \nThe to_png function was deprecated in Matplotlib 3.4 and will be removed two minor releases later. Use mathtext.math_to_image instead.\n  mt.to_png(f, s, fontsize=12, dpi=dpi, color=color)\n/Users/vic.chan/Documents/School/Data 604/CUNY-SPS-Data-604/venv/lib/python3.9/site-packages/IPython/lib/latextools.py:126: MatplotlibDeprecationWarning: \nThe to_rgba function was deprecated in Matplotlib 3.4 and will be removed two minor releases later. Use mathtext.math_to_image instead.\n  mt.to_png(f, s, fontsize=12, dpi=dpi, color=color)\n/Users/vic.chan/Documents/School/Data 604/CUNY-SPS-Data-604/venv/lib/python3.9/site-packages/IPython/lib/latextools.py:126: MatplotlibDeprecationWarning: \nThe to_mask function was deprecated in Matplotlib 3.4 and will be removed two minor releases later. Use mathtext.math_to_image instead.\n  mt.to_png(f, s, fontsize=12, dpi=dpi, color=color)\n/Users/vic.chan/Documents/School/Data 604/CUNY-SPS-Data-604/venv/lib/python3.9/site-packages/IPython/lib/latextools.py:126: MatplotlibDeprecationWarning: \nThe MathtextBackendBitmap class was deprecated in Matplotlib 3.4 and will be removed two minor releases later. Use mathtext.math_to_image instead.\n  mt.to_png(f, s, fontsize=12, dpi=dpi, color=color)\n"
     ]
    },
    {
     "output_type": "execute_result",
     "data": {
      "text/plain": [
       "    C₁⋅K + r⋅t \n",
       " K⋅ℯ           \n",
       "───────────────\n",
       " C₁⋅K + r⋅t    \n",
       "ℯ           - 1"
      ],
      "image/png": "[encoded data removed]",
      "text/latex": "$\\displaystyle \\frac{K e^{C_{1} K + r t}}{e^{C_{1} K + r t} - 1}$"
     },
     "metadata": {},
     "execution_count": 21
    }
   ],
   "source": [
    "general = solution_eq.rhs"
   ]
  },
  {
   "cell_type": "markdown",
   "metadata": {},
   "source": [
    "We can evaluate the right-hand side at $t=0$"
   ]
  },
  {
   "cell_type": "code",
   "execution_count": 22,
   "metadata": {},
   "outputs": [
    {
     "output_type": "stream",
     "name": "stderr",
     "text": [
      "/Users/vic.chan/Documents/School/Data 604/CUNY-SPS-Data-604/venv/lib/python3.9/site-packages/IPython/lib/latextools.py:126: MatplotlibDeprecationWarning: \nThe to_png function was deprecated in Matplotlib 3.4 and will be removed two minor releases later. Use mathtext.math_to_image instead.\n  mt.to_png(f, s, fontsize=12, dpi=dpi, color=color)\n/Users/vic.chan/Documents/School/Data 604/CUNY-SPS-Data-604/venv/lib/python3.9/site-packages/IPython/lib/latextools.py:126: MatplotlibDeprecationWarning: \nThe to_rgba function was deprecated in Matplotlib 3.4 and will be removed two minor releases later. Use mathtext.math_to_image instead.\n  mt.to_png(f, s, fontsize=12, dpi=dpi, color=color)\n/Users/vic.chan/Documents/School/Data 604/CUNY-SPS-Data-604/venv/lib/python3.9/site-packages/IPython/lib/latextools.py:126: MatplotlibDeprecationWarning: \nThe to_mask function was deprecated in Matplotlib 3.4 and will be removed two minor releases later. Use mathtext.math_to_image instead.\n  mt.to_png(f, s, fontsize=12, dpi=dpi, color=color)\n/Users/vic.chan/Documents/School/Data 604/CUNY-SPS-Data-604/venv/lib/python3.9/site-packages/IPython/lib/latextools.py:126: MatplotlibDeprecationWarning: \nThe MathtextBackendBitmap class was deprecated in Matplotlib 3.4 and will be removed two minor releases later. Use mathtext.math_to_image instead.\n  mt.to_png(f, s, fontsize=12, dpi=dpi, color=color)\n"
     ]
    },
    {
     "output_type": "execute_result",
     "data": {
      "text/plain": [
       "    C₁⋅K \n",
       " K⋅ℯ     \n",
       "─────────\n",
       " C₁⋅K    \n",
       "ℯ     - 1"
      ],
      "image/png": "[encoded data removed]",
      "text/latex": "$\\displaystyle \\frac{K e^{C_{1} K}}{e^{C_{1} K} - 1}$"
     },
     "metadata": {},
     "execution_count": 22
    }
   ],
   "source": [
    "at_0 = general.subs(t, 0)"
   ]
  },
  {
   "cell_type": "markdown",
   "metadata": {},
   "source": [
    "Now we want to find the value of `C1` that makes `f(0) = p_0`.\n",
    "\n",
    "So we'll create the equation `at_0 = p_0` and solve for `C1`.  Because this is just an algebraic identity, not a differential equation, we use `solve`, not `dsolve`.\n",
    "\n",
    "The result from `solve` is a list of solutions.  In this case, [we have reason to expect only one solution](https://en.wikipedia.org/wiki/Picard%E2%80%93Lindel%C3%B6f_theorem), but we still get a list, so we have to use the bracket operator, `[0]`, to select the first one."
   ]
  },
  {
   "cell_type": "code",
   "execution_count": 23,
   "metadata": {},
   "outputs": [
    {
     "output_type": "execute_result",
     "data": {
      "text/plain": [
       "(list, 1)"
      ]
     },
     "metadata": {},
     "execution_count": 23
    }
   ],
   "source": [
    "solutions = solve(Eq(at_0, p_0), C1)\n",
    "type(solutions), len(solutions)"
   ]
  },
  {
   "cell_type": "code",
   "execution_count": 24,
   "metadata": {},
   "outputs": [
    {
     "output_type": "stream",
     "name": "stderr",
     "text": [
      "/Users/vic.chan/Documents/School/Data 604/CUNY-SPS-Data-604/venv/lib/python3.9/site-packages/IPython/lib/latextools.py:126: MatplotlibDeprecationWarning: \nThe to_png function was deprecated in Matplotlib 3.4 and will be removed two minor releases later. Use mathtext.math_to_image instead.\n  mt.to_png(f, s, fontsize=12, dpi=dpi, color=color)\n/Users/vic.chan/Documents/School/Data 604/CUNY-SPS-Data-604/venv/lib/python3.9/site-packages/IPython/lib/latextools.py:126: MatplotlibDeprecationWarning: \nThe to_rgba function was deprecated in Matplotlib 3.4 and will be removed two minor releases later. Use mathtext.math_to_image instead.\n  mt.to_png(f, s, fontsize=12, dpi=dpi, color=color)\n/Users/vic.chan/Documents/School/Data 604/CUNY-SPS-Data-604/venv/lib/python3.9/site-packages/IPython/lib/latextools.py:126: MatplotlibDeprecationWarning: \nThe to_mask function was deprecated in Matplotlib 3.4 and will be removed two minor releases later. Use mathtext.math_to_image instead.\n  mt.to_png(f, s, fontsize=12, dpi=dpi, color=color)\n/Users/vic.chan/Documents/School/Data 604/CUNY-SPS-Data-604/venv/lib/python3.9/site-packages/IPython/lib/latextools.py:126: MatplotlibDeprecationWarning: \nThe MathtextBackendBitmap class was deprecated in Matplotlib 3.4 and will be removed two minor releases later. Use mathtext.math_to_image instead.\n  mt.to_png(f, s, fontsize=12, dpi=dpi, color=color)\n"
     ]
    },
    {
     "output_type": "execute_result",
     "data": {
      "text/plain": [
       "   ⎛ -p₀  ⎞\n",
       "log⎜──────⎟\n",
       "   ⎝K - p₀⎠\n",
       "───────────\n",
       "     K     "
      ],
      "image/png": "[encoded data removed]",
      "text/latex": "$\\displaystyle \\frac{\\log{\\left(- \\frac{p_{0}}{K - p_{0}} \\right)}}{K}$"
     },
     "metadata": {},
     "execution_count": 24
    }
   ],
   "source": [
    "value_of_C1 = solutions[0]"
   ]
  },
  {
   "cell_type": "markdown",
   "metadata": {},
   "source": [
    "Now in the general solution, we want to replace `C1` with the value of `C1` we just figured out."
   ]
  },
  {
   "cell_type": "code",
   "execution_count": 25,
   "metadata": {},
   "outputs": [
    {
     "output_type": "stream",
     "name": "stderr",
     "text": [
      "/Users/vic.chan/Documents/School/Data 604/CUNY-SPS-Data-604/venv/lib/python3.9/site-packages/IPython/lib/latextools.py:126: MatplotlibDeprecationWarning: \nThe to_png function was deprecated in Matplotlib 3.4 and will be removed two minor releases later. Use mathtext.math_to_image instead.\n  mt.to_png(f, s, fontsize=12, dpi=dpi, color=color)\n/Users/vic.chan/Documents/School/Data 604/CUNY-SPS-Data-604/venv/lib/python3.9/site-packages/IPython/lib/latextools.py:126: MatplotlibDeprecationWarning: \nThe to_rgba function was deprecated in Matplotlib 3.4 and will be removed two minor releases later. Use mathtext.math_to_image instead.\n  mt.to_png(f, s, fontsize=12, dpi=dpi, color=color)\n/Users/vic.chan/Documents/School/Data 604/CUNY-SPS-Data-604/venv/lib/python3.9/site-packages/IPython/lib/latextools.py:126: MatplotlibDeprecationWarning: \nThe to_mask function was deprecated in Matplotlib 3.4 and will be removed two minor releases later. Use mathtext.math_to_image instead.\n  mt.to_png(f, s, fontsize=12, dpi=dpi, color=color)\n/Users/vic.chan/Documents/School/Data 604/CUNY-SPS-Data-604/venv/lib/python3.9/site-packages/IPython/lib/latextools.py:126: MatplotlibDeprecationWarning: \nThe MathtextBackendBitmap class was deprecated in Matplotlib 3.4 and will be removed two minor releases later. Use mathtext.math_to_image instead.\n  mt.to_png(f, s, fontsize=12, dpi=dpi, color=color)\n"
     ]
    },
    {
     "output_type": "execute_result",
     "data": {
      "text/plain": [
       "             r⋅t        \n",
       "      -K⋅p₀⋅ℯ           \n",
       "────────────────────────\n",
       "         ⎛      r⋅t    ⎞\n",
       "         ⎜  p₀⋅ℯ       ⎟\n",
       "(K - p₀)⋅⎜- ─────── - 1⎟\n",
       "         ⎝   K - p₀    ⎠"
      ],
      "image/png": "[encoded data removed]",
      "text/latex": "$\\displaystyle - \\frac{K p_{0} e^{r t}}{\\left(K - p_{0}\\right) \\left(- \\frac{p_{0} e^{r t}}{K - p_{0}} - 1\\right)}$"
     },
     "metadata": {},
     "execution_count": 25
    }
   ],
   "source": [
    "particular = general.subs(C1, value_of_C1)"
   ]
  },
  {
   "cell_type": "markdown",
   "metadata": {},
   "source": [
    "The result is complicated, but SymPy provides a method that tries to simplify it."
   ]
  },
  {
   "cell_type": "code",
   "execution_count": 26,
   "metadata": {},
   "outputs": [
    {
     "output_type": "stream",
     "name": "stderr",
     "text": [
      "/Users/vic.chan/Documents/School/Data 604/CUNY-SPS-Data-604/venv/lib/python3.9/site-packages/IPython/lib/latextools.py:126: MatplotlibDeprecationWarning: \nThe to_png function was deprecated in Matplotlib 3.4 and will be removed two minor releases later. Use mathtext.math_to_image instead.\n  mt.to_png(f, s, fontsize=12, dpi=dpi, color=color)\n/Users/vic.chan/Documents/School/Data 604/CUNY-SPS-Data-604/venv/lib/python3.9/site-packages/IPython/lib/latextools.py:126: MatplotlibDeprecationWarning: \nThe to_rgba function was deprecated in Matplotlib 3.4 and will be removed two minor releases later. Use mathtext.math_to_image instead.\n  mt.to_png(f, s, fontsize=12, dpi=dpi, color=color)\n/Users/vic.chan/Documents/School/Data 604/CUNY-SPS-Data-604/venv/lib/python3.9/site-packages/IPython/lib/latextools.py:126: MatplotlibDeprecationWarning: \nThe to_mask function was deprecated in Matplotlib 3.4 and will be removed two minor releases later. Use mathtext.math_to_image instead.\n  mt.to_png(f, s, fontsize=12, dpi=dpi, color=color)\n/Users/vic.chan/Documents/School/Data 604/CUNY-SPS-Data-604/venv/lib/python3.9/site-packages/IPython/lib/latextools.py:126: MatplotlibDeprecationWarning: \nThe MathtextBackendBitmap class was deprecated in Matplotlib 3.4 and will be removed two minor releases later. Use mathtext.math_to_image instead.\n  mt.to_png(f, s, fontsize=12, dpi=dpi, color=color)\n"
     ]
    },
    {
     "output_type": "execute_result",
     "data": {
      "text/plain": [
       "         r⋅t    \n",
       "   K⋅p₀⋅ℯ       \n",
       "────────────────\n",
       "        r⋅t     \n",
       "K + p₀⋅ℯ    - p₀"
      ],
      "image/png": "[encoded data removed]",
      "text/latex": "$\\displaystyle \\frac{K p_{0} e^{r t}}{K + p_{0} e^{r t} - p_{0}}$"
     },
     "metadata": {},
     "execution_count": 26
    }
   ],
   "source": [
    "particular = simplify(particular)"
   ]
  },
  {
   "cell_type": "markdown",
   "metadata": {},
   "source": [
    "Often simplicity is in the eye of the beholder, but that's about as simple as this expression gets.\n",
    "\n",
    "Just to double-check, we can evaluate it at `t=0` and confirm that we get `p_0`"
   ]
  },
  {
   "cell_type": "code",
   "execution_count": 27,
   "metadata": {},
   "outputs": [
    {
     "output_type": "stream",
     "name": "stderr",
     "text": [
      "/Users/vic.chan/Documents/School/Data 604/CUNY-SPS-Data-604/venv/lib/python3.9/site-packages/IPython/lib/latextools.py:126: MatplotlibDeprecationWarning: \nThe to_png function was deprecated in Matplotlib 3.4 and will be removed two minor releases later. Use mathtext.math_to_image instead.\n  mt.to_png(f, s, fontsize=12, dpi=dpi, color=color)\n/Users/vic.chan/Documents/School/Data 604/CUNY-SPS-Data-604/venv/lib/python3.9/site-packages/IPython/lib/latextools.py:126: MatplotlibDeprecationWarning: \nThe to_rgba function was deprecated in Matplotlib 3.4 and will be removed two minor releases later. Use mathtext.math_to_image instead.\n  mt.to_png(f, s, fontsize=12, dpi=dpi, color=color)\n/Users/vic.chan/Documents/School/Data 604/CUNY-SPS-Data-604/venv/lib/python3.9/site-packages/IPython/lib/latextools.py:126: MatplotlibDeprecationWarning: \nThe to_mask function was deprecated in Matplotlib 3.4 and will be removed two minor releases later. Use mathtext.math_to_image instead.\n  mt.to_png(f, s, fontsize=12, dpi=dpi, color=color)\n/Users/vic.chan/Documents/School/Data 604/CUNY-SPS-Data-604/venv/lib/python3.9/site-packages/IPython/lib/latextools.py:126: MatplotlibDeprecationWarning: \nThe MathtextBackendBitmap class was deprecated in Matplotlib 3.4 and will be removed two minor releases later. Use mathtext.math_to_image instead.\n  mt.to_png(f, s, fontsize=12, dpi=dpi, color=color)\n"
     ]
    },
    {
     "output_type": "execute_result",
     "data": {
      "text/plain": [
       "p₀"
      ],
      "image/png": "[encoded data removed]",
      "text/latex": "$\\displaystyle p_{0}$"
     },
     "metadata": {},
     "execution_count": 27
    }
   ],
   "source": [
    "particular.subs(t, 0)"
   ]
  },
  {
   "cell_type": "markdown",
   "metadata": {},
   "source": [
    "This solution is called the [logistic function](https://en.wikipedia.org/wiki/Population_growth#Logistic_equation).\n",
    "\n",
    "In some places you'll see it written in a different form:\n",
    "\n",
    "$f(t) = \\frac{K}{1 + A e^{-rt}}$\n",
    "\n",
    "where $A = (K - p_0) / p_0$.\n",
    "\n",
    "We can use SymPy to confirm that these two forms are equivalent.  First we represent the alternative version of the logistic function:"
   ]
  },
  {
   "cell_type": "code",
   "execution_count": 28,
   "metadata": {},
   "outputs": [
    {
     "output_type": "stream",
     "name": "stderr",
     "text": [
      "/Users/vic.chan/Documents/School/Data 604/CUNY-SPS-Data-604/venv/lib/python3.9/site-packages/IPython/lib/latextools.py:126: MatplotlibDeprecationWarning: \nThe to_png function was deprecated in Matplotlib 3.4 and will be removed two minor releases later. Use mathtext.math_to_image instead.\n  mt.to_png(f, s, fontsize=12, dpi=dpi, color=color)\n/Users/vic.chan/Documents/School/Data 604/CUNY-SPS-Data-604/venv/lib/python3.9/site-packages/IPython/lib/latextools.py:126: MatplotlibDeprecationWarning: \nThe to_rgba function was deprecated in Matplotlib 3.4 and will be removed two minor releases later. Use mathtext.math_to_image instead.\n  mt.to_png(f, s, fontsize=12, dpi=dpi, color=color)\n/Users/vic.chan/Documents/School/Data 604/CUNY-SPS-Data-604/venv/lib/python3.9/site-packages/IPython/lib/latextools.py:126: MatplotlibDeprecationWarning: \nThe to_mask function was deprecated in Matplotlib 3.4 and will be removed two minor releases later. Use mathtext.math_to_image instead.\n  mt.to_png(f, s, fontsize=12, dpi=dpi, color=color)\n/Users/vic.chan/Documents/School/Data 604/CUNY-SPS-Data-604/venv/lib/python3.9/site-packages/IPython/lib/latextools.py:126: MatplotlibDeprecationWarning: \nThe MathtextBackendBitmap class was deprecated in Matplotlib 3.4 and will be removed two minor releases later. Use mathtext.math_to_image instead.\n  mt.to_png(f, s, fontsize=12, dpi=dpi, color=color)\n"
     ]
    },
    {
     "output_type": "execute_result",
     "data": {
      "text/plain": [
       "K - p₀\n",
       "──────\n",
       "  p₀  "
      ],
      "image/png": "[encoded data removed]",
      "text/latex": "$\\displaystyle \\frac{K - p_{0}}{p_{0}}$"
     },
     "metadata": {},
     "execution_count": 28
    }
   ],
   "source": [
    "A = (K - p_0) / p_0"
   ]
  },
  {
   "cell_type": "code",
   "execution_count": 29,
   "metadata": {},
   "outputs": [
    {
     "output_type": "stream",
     "name": "stderr",
     "text": [
      "/Users/vic.chan/Documents/School/Data 604/CUNY-SPS-Data-604/venv/lib/python3.9/site-packages/IPython/lib/latextools.py:126: MatplotlibDeprecationWarning: \nThe to_png function was deprecated in Matplotlib 3.4 and will be removed two minor releases later. Use mathtext.math_to_image instead.\n  mt.to_png(f, s, fontsize=12, dpi=dpi, color=color)\n/Users/vic.chan/Documents/School/Data 604/CUNY-SPS-Data-604/venv/lib/python3.9/site-packages/IPython/lib/latextools.py:126: MatplotlibDeprecationWarning: \nThe to_rgba function was deprecated in Matplotlib 3.4 and will be removed two minor releases later. Use mathtext.math_to_image instead.\n  mt.to_png(f, s, fontsize=12, dpi=dpi, color=color)\n/Users/vic.chan/Documents/School/Data 604/CUNY-SPS-Data-604/venv/lib/python3.9/site-packages/IPython/lib/latextools.py:126: MatplotlibDeprecationWarning: \nThe to_mask function was deprecated in Matplotlib 3.4 and will be removed two minor releases later. Use mathtext.math_to_image instead.\n  mt.to_png(f, s, fontsize=12, dpi=dpi, color=color)\n/Users/vic.chan/Documents/School/Data 604/CUNY-SPS-Data-604/venv/lib/python3.9/site-packages/IPython/lib/latextools.py:126: MatplotlibDeprecationWarning: \nThe MathtextBackendBitmap class was deprecated in Matplotlib 3.4 and will be removed two minor releases later. Use mathtext.math_to_image instead.\n  mt.to_png(f, s, fontsize=12, dpi=dpi, color=color)\n"
     ]
    },
    {
     "output_type": "execute_result",
     "data": {
      "text/plain": [
       "        K         \n",
       "──────────────────\n",
       "              -r⋅t\n",
       "    (K - p₀)⋅ℯ    \n",
       "1 + ──────────────\n",
       "          p₀      "
      ],
      "image/png": "[encoded data removed]",
      "text/latex": "$\\displaystyle \\frac{K}{1 + \\frac{\\left(K - p_{0}\\right) e^{- r t}}{p_{0}}}$"
     },
     "metadata": {},
     "execution_count": 29
    }
   ],
   "source": [
    "logistic = K / (1 + A * exp(-r*t))"
   ]
  },
  {
   "cell_type": "markdown",
   "metadata": {},
   "source": [
    "To see whether two expressions are equivalent, we can check whether their difference simplifies to 0."
   ]
  },
  {
   "cell_type": "code",
   "execution_count": 30,
   "metadata": {
    "scrolled": true
   },
   "outputs": [
    {
     "output_type": "stream",
     "name": "stderr",
     "text": [
      "/Users/vic.chan/Documents/School/Data 604/CUNY-SPS-Data-604/venv/lib/python3.9/site-packages/IPython/lib/latextools.py:126: MatplotlibDeprecationWarning: \nThe to_png function was deprecated in Matplotlib 3.4 and will be removed two minor releases later. Use mathtext.math_to_image instead.\n  mt.to_png(f, s, fontsize=12, dpi=dpi, color=color)\n/Users/vic.chan/Documents/School/Data 604/CUNY-SPS-Data-604/venv/lib/python3.9/site-packages/IPython/lib/latextools.py:126: MatplotlibDeprecationWarning: \nThe to_rgba function was deprecated in Matplotlib 3.4 and will be removed two minor releases later. Use mathtext.math_to_image instead.\n  mt.to_png(f, s, fontsize=12, dpi=dpi, color=color)\n/Users/vic.chan/Documents/School/Data 604/CUNY-SPS-Data-604/venv/lib/python3.9/site-packages/IPython/lib/latextools.py:126: MatplotlibDeprecationWarning: \nThe to_mask function was deprecated in Matplotlib 3.4 and will be removed two minor releases later. Use mathtext.math_to_image instead.\n  mt.to_png(f, s, fontsize=12, dpi=dpi, color=color)\n/Users/vic.chan/Documents/School/Data 604/CUNY-SPS-Data-604/venv/lib/python3.9/site-packages/IPython/lib/latextools.py:126: MatplotlibDeprecationWarning: \nThe MathtextBackendBitmap class was deprecated in Matplotlib 3.4 and will be removed two minor releases later. Use mathtext.math_to_image instead.\n  mt.to_png(f, s, fontsize=12, dpi=dpi, color=color)\n"
     ]
    },
    {
     "output_type": "execute_result",
     "data": {
      "text/plain": [
       "0"
      ],
      "image/png": "[encoded data removed]",
      "text/latex": "$\\displaystyle 0$"
     },
     "metadata": {},
     "execution_count": 30
    }
   ],
   "source": [
    "simplify(particular - logistic)"
   ]
  },
  {
   "cell_type": "markdown",
   "metadata": {},
   "source": [
    "This test only works one way: if SymPy says the difference reduces to 0, the expressions are definitely equivalent (and not just numerically close).\n",
    "\n",
    "But if SymPy can't find a way to simplify the result to 0, that doesn't necessarily mean there isn't one.  Testing whether two expressions are equivalent is a surprisingly hard problem; in fact, there is no algorithm that can solve it in general."
   ]
  },
  {
   "cell_type": "markdown",
   "metadata": {},
   "source": [
    "### Exercises\n",
    "\n",
    "**Exercise:** Solve the quadratic growth equation using the alternative parameterization\n",
    "\n",
    "$\\frac{df(t)}{dt} = \\alpha f(t) + \\beta f^2(t) $"
   ]
  },
  {
   "cell_type": "code",
   "execution_count": 35,
   "metadata": {},
   "outputs": [],
   "source": [
    "# Solution goes here\n",
    "\n",
    "alpha, beta = symbols('alpha beta')"
   ]
  },
  {
   "cell_type": "code",
   "execution_count": 34,
   "metadata": {},
   "outputs": [
    {
     "output_type": "stream",
     "name": "stderr",
     "text": [
      "/Users/vic.chan/Documents/School/Data 604/CUNY-SPS-Data-604/venv/lib/python3.9/site-packages/IPython/lib/latextools.py:126: MatplotlibDeprecationWarning: \nThe to_png function was deprecated in Matplotlib 3.4 and will be removed two minor releases later. Use mathtext.math_to_image instead.\n  mt.to_png(f, s, fontsize=12, dpi=dpi, color=color)\n/Users/vic.chan/Documents/School/Data 604/CUNY-SPS-Data-604/venv/lib/python3.9/site-packages/IPython/lib/latextools.py:126: MatplotlibDeprecationWarning: \nThe to_rgba function was deprecated in Matplotlib 3.4 and will be removed two minor releases later. Use mathtext.math_to_image instead.\n  mt.to_png(f, s, fontsize=12, dpi=dpi, color=color)\n/Users/vic.chan/Documents/School/Data 604/CUNY-SPS-Data-604/venv/lib/python3.9/site-packages/IPython/lib/latextools.py:126: MatplotlibDeprecationWarning: \nThe to_mask function was deprecated in Matplotlib 3.4 and will be removed two minor releases later. Use mathtext.math_to_image instead.\n  mt.to_png(f, s, fontsize=12, dpi=dpi, color=color)\n/Users/vic.chan/Documents/School/Data 604/CUNY-SPS-Data-604/venv/lib/python3.9/site-packages/IPython/lib/latextools.py:126: MatplotlibDeprecationWarning: \nThe MathtextBackendBitmap class was deprecated in Matplotlib 3.4 and will be removed two minor releases later. Use mathtext.math_to_image instead.\n  mt.to_png(f, s, fontsize=12, dpi=dpi, color=color)\n"
     ]
    },
    {
     "output_type": "execute_result",
     "data": {
      "text/plain": [
       "d                      2   \n",
       "──(f(t)) = α⋅f(t) + β⋅f (t)\n",
       "dt                         "
      ],
      "image/png": "[encoded data removed]",
      "text/latex": "$\\displaystyle \\frac{d}{d t} f{\\left(t \\right)} = \\alpha f{\\left(t \\right)} + \\beta f^{2}{\\left(t \\right)}$"
     },
     "metadata": {},
     "execution_count": 34
    }
   ],
   "source": [
    "# Solution goes here\n",
    "equation = Eq(\n",
    "                diff(f(t), t),\n",
    "                alpha * f(t) + beta * f(t) ** 2\n",
    "            )"
   ]
  },
  {
   "cell_type": "code",
   "execution_count": 36,
   "metadata": {},
   "outputs": [
    {
     "output_type": "stream",
     "name": "stderr",
     "text": [
      "/Users/vic.chan/Documents/School/Data 604/CUNY-SPS-Data-604/venv/lib/python3.9/site-packages/IPython/lib/latextools.py:126: MatplotlibDeprecationWarning: \nThe to_png function was deprecated in Matplotlib 3.4 and will be removed two minor releases later. Use mathtext.math_to_image instead.\n  mt.to_png(f, s, fontsize=12, dpi=dpi, color=color)\n/Users/vic.chan/Documents/School/Data 604/CUNY-SPS-Data-604/venv/lib/python3.9/site-packages/IPython/lib/latextools.py:126: MatplotlibDeprecationWarning: \nThe to_rgba function was deprecated in Matplotlib 3.4 and will be removed two minor releases later. Use mathtext.math_to_image instead.\n  mt.to_png(f, s, fontsize=12, dpi=dpi, color=color)\n/Users/vic.chan/Documents/School/Data 604/CUNY-SPS-Data-604/venv/lib/python3.9/site-packages/IPython/lib/latextools.py:126: MatplotlibDeprecationWarning: \nThe to_mask function was deprecated in Matplotlib 3.4 and will be removed two minor releases later. Use mathtext.math_to_image instead.\n  mt.to_png(f, s, fontsize=12, dpi=dpi, color=color)\n/Users/vic.chan/Documents/School/Data 604/CUNY-SPS-Data-604/venv/lib/python3.9/site-packages/IPython/lib/latextools.py:126: MatplotlibDeprecationWarning: \nThe MathtextBackendBitmap class was deprecated in Matplotlib 3.4 and will be removed two minor releases later. Use mathtext.math_to_image instead.\n  mt.to_png(f, s, fontsize=12, dpi=dpi, color=color)\n"
     ]
    },
    {
     "output_type": "execute_result",
     "data": {
      "text/plain": [
       "             α⋅(C₁ + t)   \n",
       "          α⋅ℯ             \n",
       "f(t) = ───────────────────\n",
       "         ⎛     α⋅(C₁ + t)⎞\n",
       "       β⋅⎝1 - ℯ          ⎠"
      ],
      "image/png": "[encoded data removed]",
      "text/latex": "$\\displaystyle f{\\left(t \\right)} = \\frac{\\alpha e^{\\alpha \\left(C_{1} + t\\right)}}{\\beta \\left(1 - e^{\\alpha \\left(C_{1} + t\\right)}\\right)}$"
     },
     "metadata": {},
     "execution_count": 36
    }
   ],
   "source": [
    "# Solution goes here\n",
    "solve_equation = dsolve(equation)"
   ]
  },
  {
   "cell_type": "code",
   "execution_count": 37,
   "metadata": {},
   "outputs": [
    {
     "output_type": "stream",
     "name": "stderr",
     "text": [
      "/Users/vic.chan/Documents/School/Data 604/CUNY-SPS-Data-604/venv/lib/python3.9/site-packages/IPython/lib/latextools.py:126: MatplotlibDeprecationWarning: \nThe to_png function was deprecated in Matplotlib 3.4 and will be removed two minor releases later. Use mathtext.math_to_image instead.\n  mt.to_png(f, s, fontsize=12, dpi=dpi, color=color)\n/Users/vic.chan/Documents/School/Data 604/CUNY-SPS-Data-604/venv/lib/python3.9/site-packages/IPython/lib/latextools.py:126: MatplotlibDeprecationWarning: \nThe to_rgba function was deprecated in Matplotlib 3.4 and will be removed two minor releases later. Use mathtext.math_to_image instead.\n  mt.to_png(f, s, fontsize=12, dpi=dpi, color=color)\n/Users/vic.chan/Documents/School/Data 604/CUNY-SPS-Data-604/venv/lib/python3.9/site-packages/IPython/lib/latextools.py:126: MatplotlibDeprecationWarning: \nThe to_mask function was deprecated in Matplotlib 3.4 and will be removed two minor releases later. Use mathtext.math_to_image instead.\n  mt.to_png(f, s, fontsize=12, dpi=dpi, color=color)\n/Users/vic.chan/Documents/School/Data 604/CUNY-SPS-Data-604/venv/lib/python3.9/site-packages/IPython/lib/latextools.py:126: MatplotlibDeprecationWarning: \nThe MathtextBackendBitmap class was deprecated in Matplotlib 3.4 and will be removed two minor releases later. Use mathtext.math_to_image instead.\n  mt.to_png(f, s, fontsize=12, dpi=dpi, color=color)\n"
     ]
    },
    {
     "output_type": "execute_result",
     "data": {
      "text/plain": [
       "      α⋅(C₁ + t)   \n",
       "   α⋅ℯ             \n",
       "───────────────────\n",
       "  ⎛     α⋅(C₁ + t)⎞\n",
       "β⋅⎝1 - ℯ          ⎠"
      ],
      "image/png": "[encoded data removed]",
      "text/latex": "$\\displaystyle \\frac{\\alpha e^{\\alpha \\left(C_{1} + t\\right)}}{\\beta \\left(1 - e^{\\alpha \\left(C_{1} + t\\right)}\\right)}$"
     },
     "metadata": {},
     "execution_count": 37
    }
   ],
   "source": [
    "# Solution goes here\n",
    "general_solution = solve_equation.rhs"
   ]
  },
  {
   "cell_type": "code",
   "execution_count": 38,
   "metadata": {},
   "outputs": [
    {
     "output_type": "stream",
     "name": "stderr",
     "text": [
      "/Users/vic.chan/Documents/School/Data 604/CUNY-SPS-Data-604/venv/lib/python3.9/site-packages/IPython/lib/latextools.py:126: MatplotlibDeprecationWarning: \nThe to_png function was deprecated in Matplotlib 3.4 and will be removed two minor releases later. Use mathtext.math_to_image instead.\n  mt.to_png(f, s, fontsize=12, dpi=dpi, color=color)\n/Users/vic.chan/Documents/School/Data 604/CUNY-SPS-Data-604/venv/lib/python3.9/site-packages/IPython/lib/latextools.py:126: MatplotlibDeprecationWarning: \nThe to_rgba function was deprecated in Matplotlib 3.4 and will be removed two minor releases later. Use mathtext.math_to_image instead.\n  mt.to_png(f, s, fontsize=12, dpi=dpi, color=color)\n/Users/vic.chan/Documents/School/Data 604/CUNY-SPS-Data-604/venv/lib/python3.9/site-packages/IPython/lib/latextools.py:126: MatplotlibDeprecationWarning: \nThe to_mask function was deprecated in Matplotlib 3.4 and will be removed two minor releases later. Use mathtext.math_to_image instead.\n  mt.to_png(f, s, fontsize=12, dpi=dpi, color=color)\n/Users/vic.chan/Documents/School/Data 604/CUNY-SPS-Data-604/venv/lib/python3.9/site-packages/IPython/lib/latextools.py:126: MatplotlibDeprecationWarning: \nThe MathtextBackendBitmap class was deprecated in Matplotlib 3.4 and will be removed two minor releases later. Use mathtext.math_to_image instead.\n  mt.to_png(f, s, fontsize=12, dpi=dpi, color=color)\n"
     ]
    },
    {
     "output_type": "execute_result",
     "data": {
      "text/plain": [
       "      C₁⋅α   \n",
       "   α⋅ℯ       \n",
       "─────────────\n",
       "  ⎛     C₁⋅α⎞\n",
       "β⋅⎝1 - ℯ    ⎠"
      ],
      "image/png": "[encoded data removed]",
      "text/latex": "$\\displaystyle \\frac{\\alpha e^{C_{1} \\alpha}}{\\beta \\left(1 - e^{C_{1} \\alpha}\\right)}$"
     },
     "metadata": {},
     "execution_count": 38
    }
   ],
   "source": [
    "# Solution goes here\n",
    "at_0 = general_solution.subs(t, 0)"
   ]
  },
  {
   "cell_type": "code",
   "execution_count": 39,
   "metadata": {},
   "outputs": [
    {
     "output_type": "stream",
     "name": "stderr",
     "text": [
      "/Users/vic.chan/Documents/School/Data 604/CUNY-SPS-Data-604/venv/lib/python3.9/site-packages/IPython/lib/latextools.py:126: MatplotlibDeprecationWarning: \nThe to_png function was deprecated in Matplotlib 3.4 and will be removed two minor releases later. Use mathtext.math_to_image instead.\n  mt.to_png(f, s, fontsize=12, dpi=dpi, color=color)\n/Users/vic.chan/Documents/School/Data 604/CUNY-SPS-Data-604/venv/lib/python3.9/site-packages/IPython/lib/latextools.py:126: MatplotlibDeprecationWarning: \nThe to_rgba function was deprecated in Matplotlib 3.4 and will be removed two minor releases later. Use mathtext.math_to_image instead.\n  mt.to_png(f, s, fontsize=12, dpi=dpi, color=color)\n/Users/vic.chan/Documents/School/Data 604/CUNY-SPS-Data-604/venv/lib/python3.9/site-packages/IPython/lib/latextools.py:126: MatplotlibDeprecationWarning: \nThe to_mask function was deprecated in Matplotlib 3.4 and will be removed two minor releases later. Use mathtext.math_to_image instead.\n  mt.to_png(f, s, fontsize=12, dpi=dpi, color=color)\n/Users/vic.chan/Documents/School/Data 604/CUNY-SPS-Data-604/venv/lib/python3.9/site-packages/IPython/lib/latextools.py:126: MatplotlibDeprecationWarning: \nThe MathtextBackendBitmap class was deprecated in Matplotlib 3.4 and will be removed two minor releases later. Use mathtext.math_to_image instead.\n  mt.to_png(f, s, fontsize=12, dpi=dpi, color=color)\n"
     ]
    },
    {
     "output_type": "execute_result",
     "data": {
      "text/plain": [
       "   ⎛  β⋅p₀  ⎞\n",
       "log⎜────────⎟\n",
       "   ⎝α + β⋅p₀⎠\n",
       "─────────────\n",
       "      α      "
      ],
      "image/png": "[encoded data removed]",
      "text/latex": "$\\displaystyle \\frac{\\log{\\left(\\frac{\\beta p_{0}}{\\alpha + \\beta p_{0}} \\right)}}{\\alpha}$"
     },
     "metadata": {},
     "execution_count": 39
    }
   ],
   "source": [
    "# Solution goes here\n",
    "\n",
    "solution = solve(Eq(at_0, p_0), C1)\n",
    "\n",
    "val_of_c1 = solution[0]"
   ]
  },
  {
   "cell_type": "code",
   "execution_count": 42,
   "metadata": {},
   "outputs": [
    {
     "output_type": "stream",
     "name": "stderr",
     "text": [
      "/Users/vic.chan/Documents/School/Data 604/CUNY-SPS-Data-604/venv/lib/python3.9/site-packages/IPython/lib/latextools.py:126: MatplotlibDeprecationWarning: \nThe to_png function was deprecated in Matplotlib 3.4 and will be removed two minor releases later. Use mathtext.math_to_image instead.\n  mt.to_png(f, s, fontsize=12, dpi=dpi, color=color)\n/Users/vic.chan/Documents/School/Data 604/CUNY-SPS-Data-604/venv/lib/python3.9/site-packages/IPython/lib/latextools.py:126: MatplotlibDeprecationWarning: \nThe to_rgba function was deprecated in Matplotlib 3.4 and will be removed two minor releases later. Use mathtext.math_to_image instead.\n  mt.to_png(f, s, fontsize=12, dpi=dpi, color=color)\n/Users/vic.chan/Documents/School/Data 604/CUNY-SPS-Data-604/venv/lib/python3.9/site-packages/IPython/lib/latextools.py:126: MatplotlibDeprecationWarning: \nThe to_mask function was deprecated in Matplotlib 3.4 and will be removed two minor releases later. Use mathtext.math_to_image instead.\n  mt.to_png(f, s, fontsize=12, dpi=dpi, color=color)\n/Users/vic.chan/Documents/School/Data 604/CUNY-SPS-Data-604/venv/lib/python3.9/site-packages/IPython/lib/latextools.py:126: MatplotlibDeprecationWarning: \nThe MathtextBackendBitmap class was deprecated in Matplotlib 3.4 and will be removed two minor releases later. Use mathtext.math_to_image instead.\n  mt.to_png(f, s, fontsize=12, dpi=dpi, color=color)\n"
     ]
    },
    {
     "output_type": "execute_result",
     "data": {
      "text/plain": [
       "         ⎛  β⋅p₀  ⎞         \n",
       "    K⋅log⎜────────⎟ + α⋅r⋅t \n",
       "         ⎝α + β⋅p₀⎠         \n",
       "    ─────────────────────── \n",
       "               α            \n",
       " K⋅ℯ                        \n",
       "────────────────────────────\n",
       "      ⎛  β⋅p₀  ⎞            \n",
       " K⋅log⎜────────⎟ + α⋅r⋅t    \n",
       "      ⎝α + β⋅p₀⎠            \n",
       " ───────────────────────    \n",
       "            α               \n",
       "ℯ                        - 1"
      ],
      "image/png": "[encoded data removed]",
      "text/latex": "$\\displaystyle \\frac{K e^{\\frac{K \\log{\\left(\\frac{\\beta p_{0}}{\\alpha + \\beta p_{0}} \\right)} + \\alpha r t}{\\alpha}}}{e^{\\frac{K \\log{\\left(\\frac{\\beta p_{0}}{\\alpha + \\beta p_{0}} \\right)} + \\alpha r t}{\\alpha}} - 1}$"
     },
     "metadata": {},
     "execution_count": 42
    }
   ],
   "source": [
    "# Solution goes here\n",
    "particular = general.subs(C1, val_of_c1)\n",
    "particular = particular.simplify()\n",
    "particular"
   ]
  },
  {
   "cell_type": "markdown",
   "metadata": {},
   "source": [
    "**Exercise:**  Use [WolframAlpha](https://www.wolframalpha.com/) to solve the quadratic growth model, using either or both forms of parameterization:\n",
    "\n",
    "    df(t) / dt = alpha f(t) + beta f(t)^2\n",
    "\n",
    "or\n",
    "\n",
    "    df(t) / dt = r f(t) (1 - f(t)/K)\n",
    "\n",
    "Find the general solution and also the particular solution where `f(0) = p_0`."
   ]
  },
  {
   "cell_type": "code",
   "execution_count": 43,
   "metadata": {},
   "outputs": [
    {
     "output_type": "execute_result",
     "data": {
      "image/gif": "[encoded data removed]",
      "text/plain": [
       "<IPython.core.display.Image object>"
      ]
     },
     "metadata": {},
     "execution_count": 43
    }
   ],
   "source": [
    "from IPython.display import Image\n",
    "Image('../data/wolframalpha.gif')\n"
   ]
  },
  {
   "cell_type": "code",
   "execution_count": null,
   "metadata": {},
   "outputs": [],
   "source": []
  }
 ],
 "metadata": {
  "kernelspec": {
   "name": "python3",
   "display_name": "Python 3.9.5  ('venv': venv)"
  },
  "language_info": {
   "codemirror_mode": {
    "name": "ipython",
    "version": 3
   },
   "file_extension": ".py",
   "mimetype": "text/x-python",
   "name": "python",
   "nbconvert_exporter": "python",
   "pygments_lexer": "ipython3",
   "version": "3.9.5"
  },
  "interpreter": {
   "hash": "522436dff6f9a981544cecb48eedd645288f815ffd65914924db73f4e74a3149"
  }
 },
 "nbformat": 4,
 "nbformat_minor": 2
}